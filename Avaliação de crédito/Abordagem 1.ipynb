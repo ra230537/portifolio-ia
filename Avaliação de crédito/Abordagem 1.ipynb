{
 "cells": [
  {
   "cell_type": "code",
   "execution_count": null,
   "id": "678765ca",
   "metadata": {
    "notebookRunGroups": {
     "groupValue": "2"
    }
   },
   "outputs": [],
   "source": [
    "import pandas as pd\n",
    "import matplotlib.pyplot as plt\n",
    "\n",
    "from sklearn.preprocessing import StandardScaler\n",
    "from sklearn.neighbors import KernelDensity\n",
    "from sklearn.metrics import classification_report, confusion_matrix, precision_recall_curve, average_precision_score\n",
    "from sklearn.model_selection import GridSearchCV\n",
    "import seaborn as sns\n",
    "import numpy as np"
   ]
  },
  {
   "cell_type": "code",
   "execution_count": 266,
   "id": "061c2e97",
   "metadata": {},
   "outputs": [],
   "source": [
    "\n",
    "df = pd.read_csv('creditcard.csv')\n"
   ]
  },
  {
   "cell_type": "markdown",
   "id": "1dfdf97e",
   "metadata": {},
   "source": [
    "The columns are features: due to privacity we don't know the columns name but we have time and amount: Time is the difference between the each transaction and the first transaction dataset and Amount is the transaction amount"
   ]
  },
  {
   "cell_type": "markdown",
   "id": "36f018a8",
   "metadata": {},
   "source": [
    "# EDA"
   ]
  },
  {
   "cell_type": "markdown",
   "id": "876cd5b3",
   "metadata": {},
   "source": [
    "## Ver a distribuição das classes\n",
    "Vamos ver como as classes estão distribuídas, isso pode nos ajudar a entender um pouco melhor os dados, como há no geral poucos dados fraudulentos é esperado que hajam bem mais registros de dados não fraudulentos do que de fraudulentos"
   ]
  },
  {
   "cell_type": "code",
   "execution_count": 267,
   "id": "a90cc0e9",
   "metadata": {},
   "outputs": [
    {
     "data": {
      "image/png": "[encoded data removed]",
      "text/plain": [
       "<Figure size 600x400 with 1 Axes>"
      ]
     },
     "metadata": {},
     "output_type": "display_data"
    },
    {
     "name": "stdout",
     "output_type": "stream",
     "text": [
      "Percentual de dados fraudulentos: 0.173%\n",
      "Percentual de dados não fraudulentos: 99.827%\n"
     ]
    }
   ],
   "source": [
    "class_count = df['Class'].value_counts()\n",
    "\n",
    "# Plot\n",
    "plt.figure(figsize=(6, 4))\n",
    "bars = plt.bar(class_count.index.astype(str), class_count.values)\n",
    "for bar in bars:\n",
    "    height = bar.get_height()\n",
    "    plt.text(\n",
    "        bar.get_x()+bar.get_width()/2,\n",
    "        height, \n",
    "        str(height),\n",
    "        ha='center', \n",
    "        va='bottom'\n",
    "    )\n",
    "plt.xlabel('Classe (0 = Normal, 1 = Fraude)')\n",
    "plt.tight_layout()\n",
    "plt.show()\n",
    "print(f\"Percentual de dados fraudulentos: {round(100*class_count[1]/df.shape[0], 3)}%\")\n",
    "print(f\"Percentual de dados não fraudulentos: {round(100*class_count[0]/df.shape[0], 3)}%\")\n"
   ]
  },
  {
   "cell_type": "markdown",
   "id": "c8811a85",
   "metadata": {},
   "source": [
    "## Estatística básica das variáveis\n",
    "A ideia é olharmos para os números para entendermos melhor os dados"
   ]
  },
  {
   "cell_type": "markdown",
   "id": "d8600734",
   "metadata": {},
   "source": [
    "### Como as quantidades se relacionam com os dados fraudados"
   ]
  },
  {
   "cell_type": "markdown",
   "id": "fc1529e7",
   "metadata": {},
   "source": [
    "Podemos ver que a média dos dados fraudados ela é maior que a média dos dados normais mas a mediana não é, oque quer dizer que a maioria das transações fraudulentas, tem valores inferiores a media. E outra parte (75%) tem valores superiores, isso pode nos ajudar no futuro"
   ]
  },
  {
   "cell_type": "code",
   "execution_count": 268,
   "id": "b4bd4161",
   "metadata": {},
   "outputs": [
    {
     "data": {
      "text/html": [
       "<div>\n",
       "<style scoped>\n",
       "    .dataframe tbody tr th:only-of-type {\n",
       "        vertical-align: middle;\n",
       "    }\n",
       "\n",
       "    .dataframe tbody tr th {\n",
       "        vertical-align: top;\n",
       "    }\n",
       "\n",
       "    .dataframe thead th {\n",
       "        text-align: right;\n",
       "    }\n",
       "</style>\n",
       "<table border=\"1\" class=\"dataframe\">\n",
       "  <thead>\n",
       "    <tr style=\"text-align: right;\">\n",
       "      <th></th>\n",
       "      <th>Normal</th>\n",
       "      <th>Fraude</th>\n",
       "    </tr>\n",
       "  </thead>\n",
       "  <tbody>\n",
       "    <tr>\n",
       "      <th>count</th>\n",
       "      <td>284315.000000</td>\n",
       "      <td>492.000000</td>\n",
       "    </tr>\n",
       "    <tr>\n",
       "      <th>mean</th>\n",
       "      <td>88.291022</td>\n",
       "      <td>122.211321</td>\n",
       "    </tr>\n",
       "    <tr>\n",
       "      <th>std</th>\n",
       "      <td>250.105092</td>\n",
       "      <td>256.683288</td>\n",
       "    </tr>\n",
       "    <tr>\n",
       "      <th>min</th>\n",
       "      <td>0.000000</td>\n",
       "      <td>0.000000</td>\n",
       "    </tr>\n",
       "    <tr>\n",
       "      <th>25%</th>\n",
       "      <td>5.650000</td>\n",
       "      <td>1.000000</td>\n",
       "    </tr>\n",
       "    <tr>\n",
       "      <th>50%</th>\n",
       "      <td>22.000000</td>\n",
       "      <td>9.250000</td>\n",
       "    </tr>\n",
       "    <tr>\n",
       "      <th>75%</th>\n",
       "      <td>77.050000</td>\n",
       "      <td>105.890000</td>\n",
       "    </tr>\n",
       "    <tr>\n",
       "      <th>max</th>\n",
       "      <td>25691.160000</td>\n",
       "      <td>2125.870000</td>\n",
       "    </tr>\n",
       "  </tbody>\n",
       "</table>\n",
       "</div>"
      ],
      "text/plain": [
       "              Normal       Fraude\n",
       "count  284315.000000   492.000000\n",
       "mean       88.291022   122.211321\n",
       "std       250.105092   256.683288\n",
       "min         0.000000     0.000000\n",
       "25%         5.650000     1.000000\n",
       "50%        22.000000     9.250000\n",
       "75%        77.050000   105.890000\n",
       "max     25691.160000  2125.870000"
      ]
     },
     "execution_count": 268,
     "metadata": {},
     "output_type": "execute_result"
    }
   ],
   "source": [
    "fraude = df.where(df['Class'] == 1).describe()['Amount']\n",
    "normal = df.where(df['Class'] == 0).describe()['Amount']\n",
    "pd.DataFrame({'Normal': normal, 'Fraude': fraude})"
   ]
  },
  {
   "cell_type": "markdown",
   "id": "1e7e76ca",
   "metadata": {},
   "source": [
    "### Correlação entre as variáveis e os dados fraudados"
   ]
  },
  {
   "cell_type": "markdown",
   "id": "ec45885f",
   "metadata": {},
   "source": [
    "Interessante notar que amount não está entre as principais variáveis que se relacionam com a classe. As principais são: V17, V14, V12 ,V10, V16, V3 e V7"
   ]
  },
  {
   "cell_type": "code",
   "execution_count": null,
   "id": "0df54e8b",
   "metadata": {},
   "outputs": [
    {
     "name": "stdout",
     "output_type": "stream",
     "text": [
      "['Class', 'V17', 'V14', 'V12']\n"
     ]
    }
   ],
   "source": [
    "qtd_features = 3\n",
    "correlations = df.corr(numeric_only=True)\n",
    "class_correlations = correlations['Class'].drop('Class')\n",
    "sorted_class_correlations = class_correlations.sort_values(key=abs, ascending=False)\n",
    "important_features = ['Class']\n",
    "important_features = important_features + sorted_class_correlations.index.tolist()[:qtd_features]\n",
    "print(important_features)"
   ]
  },
  {
   "cell_type": "markdown",
   "id": "d4689b6e",
   "metadata": {},
   "source": [
    "## Avaliando o modelo"
   ]
  },
  {
   "cell_type": "code",
   "execution_count": 270,
   "id": "2655786d",
   "metadata": {},
   "outputs": [],
   "source": [
    "# Eu preciso dos dados sem classe\n",
    "df = df[important_features]\n",
    "X = df.drop(columns=['Class'])\n",
    "y = df['Class']\n",
    "\n",
    "# Eu preciso dos dados normais\n",
    "X_normal_sample = df[df['Class'] == 0].drop(columns=['Class']).sample(n=2000, random_state=42)\n",
    "\n",
    "## Agora eu preciso fazer o modelo entender quais são os dados normais, aplicando a padrozinação\n",
    "\n",
    "standard_scaler = StandardScaler()\n",
    "X_normal_sampled_scaled = standard_scaler.fit_transform(X_normal_sample) # guarda os valores de mi e sigma e depois aplica a transformação\n",
    "X_scaled = standard_scaler.transform(X) # aplica a transformação com os valores já obtidos anteriormente\n"
   ]
  },
  {
   "cell_type": "code",
   "execution_count": 271,
   "id": "ffb969d6",
   "metadata": {},
   "outputs": [
    {
     "name": "stdout",
     "output_type": "stream",
     "text": [
      "Melhor bandwidth: 0.4789473684210527\n"
     ]
    }
   ],
   "source": [
    "# Econtrar a melhor banda\n",
    "params = {'bandwidth': np.linspace(0.1, 1, 20)}\n",
    "grid = GridSearchCV(KernelDensity(kernel='gaussian'), params, cv=5)\n",
    "grid.fit(X_normal_sampled_scaled)\n",
    "print(\"Melhor bandwidth:\", grid.best_params_['bandwidth'])\n",
    "best_bw = grid.best_params_['bandwidth']"
   ]
  },
  {
   "cell_type": "code",
   "execution_count": 272,
   "id": "6df00abb",
   "metadata": {},
   "outputs": [],
   "source": [
    "# O valor encontrado da melhor banda foi 0.599\n",
    "kde = KernelDensity(bandwidth=best_bw, kernel='gaussian', algorithm='auto')\n",
    "kde.fit(X_normal_sampled_scaled)\n",
    "\n",
    "##Calcular o score dos dados\n",
    "log_density = kde.score_samples(X_scaled)\n",
    "anomalie_score = -log_density\n"
   ]
  },
  {
   "cell_type": "code",
   "execution_count": 273,
   "id": "6d7f6094",
   "metadata": {},
   "outputs": [
    {
     "name": "stdout",
     "output_type": "stream",
     "text": [
      "Fraude\n",
      "       anomaly_score  true_class\n",
      "count     492.000000       492.0\n",
      "mean      162.766740         1.0\n",
      "std       250.679879         0.0\n",
      "min         2.780611         1.0\n",
      "25%        26.711496         1.0\n",
      "50%        68.714390         1.0\n",
      "75%       156.108730         1.0\n",
      "max      1377.747682         1.0\n",
      "\n",
      "Normal\n",
      "       anomaly_score  true_class\n",
      "count  284315.000000    284315.0\n",
      "mean        3.818309         0.0\n",
      "std         4.005647         0.0\n",
      "min         2.346846         0.0\n",
      "25%         2.822756         0.0\n",
      "50%         3.311860         0.0\n",
      "75%         4.210312         0.0\n",
      "max       557.518645         0.0\n"
     ]
    }
   ],
   "source": [
    "\n",
    "df_scores = pd.DataFrame(\n",
    "    {\n",
    "        'anomaly_score': anomalie_score,\n",
    "        'true_class': y\n",
    "    }\n",
    ")\n",
    "print('Fraude')\n",
    "print(df_scores[df_scores['true_class'] == 1].describe(), end='\\n\\n')\n",
    "print('Normal')\n",
    "print(df_scores[df_scores['true_class'] == 0].describe())\n"
   ]
  },
  {
   "cell_type": "code",
   "execution_count": 274,
   "id": "37157000",
   "metadata": {},
   "outputs": [
    {
     "name": "stdout",
     "output_type": "stream",
     "text": [
      "Melhor threshold (com maior F1 na curva PR): 34.90026190687405\n"
     ]
    }
   ],
   "source": [
    "precision, recall, thresholds = precision_recall_curve(df_scores['true_class'], df_scores['anomaly_score'])\n",
    "f1_scores = 2 * (precision * recall) / (precision + recall + 1e-10)\n",
    "f1_scores_indx = f1_scores.argmax()\n",
    "threshold = thresholds[f1_scores_indx]\n",
    "print(\"Melhor threshold (com maior F1 na curva PR):\", threshold)"
   ]
  },
  {
   "cell_type": "code",
   "execution_count": 279,
   "id": "2463f96d",
   "metadata": {},
   "outputs": [
    {
     "name": "stdout",
     "output_type": "stream",
     "text": [
      "              precision    recall  f1-score   support\n",
      "\n",
      "           0       1.00      1.00      1.00    284315\n",
      "           1       0.60      0.71      0.65       492\n",
      "\n",
      "    accuracy                           1.00    284807\n",
      "   macro avg       0.80      0.85      0.82    284807\n",
      "weighted avg       1.00      1.00      1.00    284807\n",
      "\n"
     ]
    },
    {
     "data": {
      "image/png": "[encoded data removed]",
      "text/plain": [
       "<Figure size 600x400 with 2 Axes>"
      ]
     },
     "metadata": {},
     "output_type": "display_data"
    }
   ],
   "source": [
    "# threshold = 1133.7435422923106\n",
    "y_pred = (df_scores['anomaly_score'] > threshold).astype(int)\n",
    "\n",
    "# Avaliação\n",
    "print(classification_report(df_scores['true_class'], y_pred))\n",
    "\n",
    "# Matriz de confusão\n",
    "cm = confusion_matrix(df_scores['true_class'], y_pred)\n",
    "\n",
    "plt.figure(figsize=(6, 4))\n",
    "sns.heatmap(cm, annot=True, fmt='d', cmap='Blues',\n",
    "            xticklabels=['Normal', 'Fraude'],\n",
    "            yticklabels=['Normal', 'Fraude'])\n",
    "plt.xlabel('Previsto')\n",
    "plt.ylabel('Real')\n",
    "plt.title(f'Matriz de Confusão (threshold = {threshold})')\n",
    "plt.tight_layout()\n",
    "plt.show()\n"
   ]
  },
  {
   "cell_type": "code",
   "execution_count": 278,
   "id": "b44ad05a",
   "metadata": {},
   "outputs": [
    {
     "name": "stdout",
     "output_type": "stream",
     "text": [
      "AUC-PR: 0.6230\n"
     ]
    }
   ],
   "source": [
    "\n",
    "auc_pr = average_precision_score(df_scores['true_class'], df_scores['anomaly_score'])\n",
    "print(f\"AUC-PR: {auc_pr:.4f}\")"
   ]
  }
 ],
 "metadata": {
  "kernelspec": {
   "display_name": "base",
   "language": "python",
   "name": "python3"
  },
  "language_info": {
   "codemirror_mode": {
    "name": "ipython",
    "version": 3
   },
   "file_extension": ".py",
   "mimetype": "text/x-python",
   "name": "python",
   "nbconvert_exporter": "python",
   "pygments_lexer": "ipython3",
   "version": "3.12.7"
  }
 },
 "nbformat": 4,
 "nbformat_minor": 5
}
