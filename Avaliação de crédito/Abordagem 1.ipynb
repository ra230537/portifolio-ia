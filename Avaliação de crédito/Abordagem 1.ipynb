{
 "cells": [
  {
   "cell_type": "code",
   "execution_count": 37,
   "id": "678765ca",
   "metadata": {},
   "outputs": [],
   "source": [
    "import pandas as pd\n",
    "import matplotlib.pyplot as plt\n",
    "\n",
    "from sklearn.preprocessing import StandardScaler\n",
    "from sklearn.neighbors import KernelDensity\n",
    "from sklearn.linear_model import LogisticRegression\n",
    "from sklearn.model_selection import train_test_split\n",
    "from sklearn.metrics import classification_report, confusion_matrix, precision_score, recall_score, precision_recall_curve, auc\n",
    "import seaborn as sns\n",
    "import numpy as np\n",
    "from sklearn.decomposition import PCA"
   ]
  },
  {
   "cell_type": "code",
   "execution_count": 2,
   "id": "061c2e97",
   "metadata": {},
   "outputs": [],
   "source": [
    "\n",
    "df = pd.read_csv('creditcard.csv')\n"
   ]
  },
  {
   "cell_type": "markdown",
   "id": "1dfdf97e",
   "metadata": {},
   "source": [
    "The columns are features: due to privacity we don't know the columns name but we have time and amount: Time is the difference between the each transaction and the first transaction dataset and Amount is the transaction amount"
   ]
  },
  {
   "cell_type": "markdown",
   "id": "36f018a8",
   "metadata": {},
   "source": [
    "# EDA"
   ]
  },
  {
   "cell_type": "markdown",
   "id": "876cd5b3",
   "metadata": {},
   "source": [
    "## Ver a distribuição das classes\n",
    "Vamos ver como as classes estão distribuídas, isso pode nos ajudar a entender um pouco melhor os dados, como há no geral poucos dados fraudulentos é esperado que hajam bem mais registros de dados não fraudulentos do que de fraudulentos"
   ]
  },
  {
   "cell_type": "code",
   "execution_count": 3,
   "id": "a90cc0e9",
   "metadata": {},
   "outputs": [
    {
     "data": {
      "image/png": "[encoded data removed]",
      "text/plain": [
       "<Figure size 600x400 with 1 Axes>"
      ]
     },
     "metadata": {},
     "output_type": "display_data"
    },
    {
     "name": "stdout",
     "output_type": "stream",
     "text": [
      "Percentual de dados fraudulentos: 0.173%\n",
      "Percentual de dados não fraudulentos: 99.827%\n"
     ]
    }
   ],
   "source": [
    "class_count = df['Class'].value_counts()\n",
    "\n",
    "# Plot\n",
    "plt.figure(figsize=(6, 4))\n",
    "bars = plt.bar(class_count.index.astype(str), class_count.values)\n",
    "for bar in bars:\n",
    "    height = bar.get_height()\n",
    "    plt.text(\n",
    "        bar.get_x()+bar.get_width()/2,\n",
    "        height, \n",
    "        str(height),\n",
    "        ha='center', \n",
    "        va='bottom'\n",
    "    )\n",
    "plt.xlabel('Classe (0 = Normal, 1 = Fraude)')\n",
    "plt.tight_layout()\n",
    "plt.show()\n",
    "print(f\"Percentual de dados fraudulentos: {round(100*class_count[1]/df.shape[0], 3)}%\")\n",
    "print(f\"Percentual de dados não fraudulentos: {round(100*class_count[0]/df.shape[0], 3)}%\")\n"
   ]
  },
  {
   "cell_type": "markdown",
   "id": "c8811a85",
   "metadata": {},
   "source": [
    "## Estatística básica das variáveis\n",
    "A ideia é olharmos para os números para entendermos melhor os dados"
   ]
  },
  {
   "cell_type": "markdown",
   "id": "d8600734",
   "metadata": {},
   "source": [
    "### Como as quantidades se relacionam com os dados fraudados"
   ]
  },
  {
   "cell_type": "markdown",
   "id": "fc1529e7",
   "metadata": {},
   "source": [
    "Podemos ver que a média dos dados fraudados ela é maior que a média dos dados normais mas a mediana não é, oque quer dizer que a maioria das transações fraudulentas, tem valores inferiores a media. E outra parte (75%) tem valores superiores, isso pode nos ajudar no futuro"
   ]
  },
  {
   "cell_type": "code",
   "execution_count": 4,
   "id": "b4bd4161",
   "metadata": {},
   "outputs": [
    {
     "data": {
      "text/html": [
       "<div>\n",
       "<style scoped>\n",
       "    .dataframe tbody tr th:only-of-type {\n",
       "        vertical-align: middle;\n",
       "    }\n",
       "\n",
       "    .dataframe tbody tr th {\n",
       "        vertical-align: top;\n",
       "    }\n",
       "\n",
       "    .dataframe thead th {\n",
       "        text-align: right;\n",
       "    }\n",
       "</style>\n",
       "<table border=\"1\" class=\"dataframe\">\n",
       "  <thead>\n",
       "    <tr style=\"text-align: right;\">\n",
       "      <th></th>\n",
       "      <th>Normal</th>\n",
       "      <th>Fraude</th>\n",
       "    </tr>\n",
       "  </thead>\n",
       "  <tbody>\n",
       "    <tr>\n",
       "      <th>count</th>\n",
       "      <td>284315.000000</td>\n",
       "      <td>492.000000</td>\n",
       "    </tr>\n",
       "    <tr>\n",
       "      <th>mean</th>\n",
       "      <td>88.291022</td>\n",
       "      <td>122.211321</td>\n",
       "    </tr>\n",
       "    <tr>\n",
       "      <th>std</th>\n",
       "      <td>250.105092</td>\n",
       "      <td>256.683288</td>\n",
       "    </tr>\n",
       "    <tr>\n",
       "      <th>min</th>\n",
       "      <td>0.000000</td>\n",
       "      <td>0.000000</td>\n",
       "    </tr>\n",
       "    <tr>\n",
       "      <th>25%</th>\n",
       "      <td>5.650000</td>\n",
       "      <td>1.000000</td>\n",
       "    </tr>\n",
       "    <tr>\n",
       "      <th>50%</th>\n",
       "      <td>22.000000</td>\n",
       "      <td>9.250000</td>\n",
       "    </tr>\n",
       "    <tr>\n",
       "      <th>75%</th>\n",
       "      <td>77.050000</td>\n",
       "      <td>105.890000</td>\n",
       "    </tr>\n",
       "    <tr>\n",
       "      <th>max</th>\n",
       "      <td>25691.160000</td>\n",
       "      <td>2125.870000</td>\n",
       "    </tr>\n",
       "  </tbody>\n",
       "</table>\n",
       "</div>"
      ],
      "text/plain": [
       "              Normal       Fraude\n",
       "count  284315.000000   492.000000\n",
       "mean       88.291022   122.211321\n",
       "std       250.105092   256.683288\n",
       "min         0.000000     0.000000\n",
       "25%         5.650000     1.000000\n",
       "50%        22.000000     9.250000\n",
       "75%        77.050000   105.890000\n",
       "max     25691.160000  2125.870000"
      ]
     },
     "execution_count": 4,
     "metadata": {},
     "output_type": "execute_result"
    }
   ],
   "source": [
    "fraude = df.where(df['Class'] == 1).describe()['Amount']\n",
    "normal = df.where(df['Class'] == 0).describe()['Amount']\n",
    "pd.DataFrame({'Normal': normal, 'Fraude': fraude})"
   ]
  },
  {
   "cell_type": "markdown",
   "id": "1e7e76ca",
   "metadata": {},
   "source": [
    "### Correlação entre as variáveis e os dados fraudados"
   ]
  },
  {
   "cell_type": "markdown",
   "id": "ec45885f",
   "metadata": {},
   "source": [
    "Interessante notar que amount não está entre as principais variáveis que se relacionam com a classe. As principais são: V17, V14, V12 ,V10, V16, V3 e V7"
   ]
  },
  {
   "cell_type": "code",
   "execution_count": 5,
   "id": "0df54e8b",
   "metadata": {},
   "outputs": [
    {
     "name": "stdout",
     "output_type": "stream",
     "text": [
      "V17      -0.326481\n",
      "V14      -0.302544\n",
      "V12      -0.260593\n",
      "V10      -0.216883\n",
      "V16      -0.196539\n",
      "V3       -0.192961\n",
      "V7       -0.187257\n",
      "V11       0.154876\n",
      "V4        0.133447\n",
      "V18      -0.111485\n",
      "V1       -0.101347\n",
      "V9       -0.097733\n",
      "V5       -0.094974\n",
      "V2        0.091289\n",
      "V6       -0.043643\n",
      "V21       0.040413\n",
      "V19       0.034783\n",
      "V20       0.020090\n",
      "V8        0.019875\n",
      "V27       0.017580\n",
      "Time     -0.012323\n",
      "V28       0.009536\n",
      "V24      -0.007221\n",
      "Amount    0.005632\n",
      "V13      -0.004570\n",
      "V26       0.004455\n",
      "V15      -0.004223\n",
      "V25       0.003308\n",
      "V23      -0.002685\n",
      "V22       0.000805\n",
      "Name: Class, dtype: float64\n"
     ]
    }
   ],
   "source": [
    "correlations = df.corr(numeric_only=True)\n",
    "class_correlations = correlations['Class'].drop('Class')\n",
    "sorted_class_correlations = class_correlations.sort_values(key=abs, ascending=False)\n",
    "print(sorted_class_correlations)"
   ]
  },
  {
   "cell_type": "markdown",
   "id": "d4689b6e",
   "metadata": {},
   "source": [
    "## Avaliando o modelo"
   ]
  },
  {
   "cell_type": "code",
   "execution_count": 54,
   "id": "2655786d",
   "metadata": {},
   "outputs": [],
   "source": [
    "# Eu preciso dos dados sem classe\n",
    "X = df.drop(columns=['Class'])\n",
    "y = df['Class']\n",
    "\n",
    "# Eu preciso dos dados normais\n",
    "X_normal_sample = df[df['Class'] == 0].drop(columns=['Class']).sample(n=20000, random_state=42)\n",
    "\n",
    "## Agora eu preciso fazer o modelo entender quais são os dados normais\n",
    "\n",
    "standard_scaler = StandardScaler()\n",
    "X_normal_sampled_scaled = standard_scaler.fit_transform(X_normal_sample)\n",
    "X_scaled = standard_scaler.transform(X)\n"
   ]
  },
  {
   "cell_type": "code",
   "execution_count": null,
   "id": "ffb969d6",
   "metadata": {},
   "outputs": [],
   "source": [
    "# Econtrar a melhor banda\n",
    "# best_bw, max_value = 0, -np.inf\n",
    "# for bw in np.arange(0.5,1.5, 0.1):\n",
    "#     kde = KernelDensity(bandwidth=bw, kernel='gaussian', algorithm='auto')\n",
    "#     kde.fit(X_normal_sampled_scaled)\n",
    "#     ##Calcular o score dos dados\n",
    "#     score = kde.score(X_scaled[y==0])\n",
    "#     print(f'Score: {score}; width: {bw}')\n",
    "#     if (score > max_value):\n",
    "#         max_value = score\n",
    "#         best_bw = bw\n",
    "# print(f'melhor banda: {best_bw}')"
   ]
  },
  {
   "cell_type": "code",
   "execution_count": 56,
   "id": "6df00abb",
   "metadata": {},
   "outputs": [],
   "source": [
    "# O valor encontrado da melhor banda foi 0.8\n",
    "best_bw = 0.8\n",
    "# Treinar o KDE\n",
    "kde = KernelDensity(bandwidth=best_bw, kernel='gaussian', algorithm='ball_tree')\n",
    "kde.fit(X_normal_sampled_scaled)\n",
    "\n",
    "##Calcular o score dos dados\n",
    "log_density = kde.score_samples(X_scaled)\n",
    "anomalie_score = -log_density\n"
   ]
  },
  {
   "cell_type": "code",
   "execution_count": 57,
   "id": "6d7f6094",
   "metadata": {},
   "outputs": [
    {
     "name": "stdout",
     "output_type": "stream",
     "text": [
      "Fraude\n",
      "       anomaly_score  true_class\n",
      "count     492.000000       492.0\n",
      "mean      209.984567         1.0\n",
      "std       527.975301         0.0\n",
      "min        28.383464         1.0\n",
      "25%        53.933163         1.0\n",
      "50%        56.588897         1.0\n",
      "75%       104.555120         1.0\n",
      "max      5379.120090         1.0\n",
      "\n",
      "Normal\n",
      "       anomaly_score  true_class\n",
      "count  284315.000000    284315.0\n",
      "mean       33.315854         0.0\n",
      "std        77.624340         0.0\n",
      "min        26.424111         0.0\n",
      "25%        29.389794         0.0\n",
      "50%        30.877843         0.0\n",
      "75%        33.798380         0.0\n",
      "max     34102.797513         0.0\n"
     ]
    }
   ],
   "source": [
    "\n",
    "df_scores = pd.DataFrame(\n",
    "    {\n",
    "        'anomaly_score': anomalie_score,\n",
    "        'true_class': y\n",
    "    }\n",
    ")\n",
    "print('Fraude')\n",
    "print(df_scores[df_scores['true_class'] == 1].describe(), end='\\n\\n')\n",
    "print('Normal')\n",
    "print(df_scores[df_scores['true_class'] == 0].describe())\n"
   ]
  },
  {
   "cell_type": "code",
   "execution_count": 59,
   "id": "37157000",
   "metadata": {},
   "outputs": [
    {
     "data": {
      "text/html": [
       "<div>\n",
       "<style scoped>\n",
       "    .dataframe tbody tr th:only-of-type {\n",
       "        vertical-align: middle;\n",
       "    }\n",
       "\n",
       "    .dataframe tbody tr th {\n",
       "        vertical-align: top;\n",
       "    }\n",
       "\n",
       "    .dataframe thead th {\n",
       "        text-align: right;\n",
       "    }\n",
       "</style>\n",
       "<table border=\"1\" class=\"dataframe\">\n",
       "  <thead>\n",
       "    <tr style=\"text-align: right;\">\n",
       "      <th></th>\n",
       "      <th>threshold</th>\n",
       "      <th>Precision</th>\n",
       "      <th>Recall</th>\n",
       "    </tr>\n",
       "  </thead>\n",
       "  <tbody>\n",
       "    <tr>\n",
       "      <th>0</th>\n",
       "      <td>40</td>\n",
       "      <td>0.019232</td>\n",
       "      <td>0.876016</td>\n",
       "    </tr>\n",
       "    <tr>\n",
       "      <th>1</th>\n",
       "      <td>41</td>\n",
       "      <td>0.022138</td>\n",
       "      <td>0.869919</td>\n",
       "    </tr>\n",
       "    <tr>\n",
       "      <th>2</th>\n",
       "      <td>42</td>\n",
       "      <td>0.025289</td>\n",
       "      <td>0.865854</td>\n",
       "    </tr>\n",
       "    <tr>\n",
       "      <th>3</th>\n",
       "      <td>43</td>\n",
       "      <td>0.028439</td>\n",
       "      <td>0.861789</td>\n",
       "    </tr>\n",
       "    <tr>\n",
       "      <th>4</th>\n",
       "      <td>44</td>\n",
       "      <td>0.032036</td>\n",
       "      <td>0.859756</td>\n",
       "    </tr>\n",
       "    <tr>\n",
       "      <th>5</th>\n",
       "      <td>45</td>\n",
       "      <td>0.035726</td>\n",
       "      <td>0.855691</td>\n",
       "    </tr>\n",
       "    <tr>\n",
       "      <th>6</th>\n",
       "      <td>46</td>\n",
       "      <td>0.039681</td>\n",
       "      <td>0.849593</td>\n",
       "    </tr>\n",
       "    <tr>\n",
       "      <th>7</th>\n",
       "      <td>47</td>\n",
       "      <td>0.043826</td>\n",
       "      <td>0.845528</td>\n",
       "    </tr>\n",
       "    <tr>\n",
       "      <th>8</th>\n",
       "      <td>48</td>\n",
       "      <td>0.047425</td>\n",
       "      <td>0.829268</td>\n",
       "    </tr>\n",
       "    <tr>\n",
       "      <th>9</th>\n",
       "      <td>49</td>\n",
       "      <td>0.051548</td>\n",
       "      <td>0.819106</td>\n",
       "    </tr>\n",
       "    <tr>\n",
       "      <th>10</th>\n",
       "      <td>50</td>\n",
       "      <td>0.056188</td>\n",
       "      <td>0.813008</td>\n",
       "    </tr>\n",
       "    <tr>\n",
       "      <th>11</th>\n",
       "      <td>51</td>\n",
       "      <td>0.060228</td>\n",
       "      <td>0.804878</td>\n",
       "    </tr>\n",
       "    <tr>\n",
       "      <th>12</th>\n",
       "      <td>52</td>\n",
       "      <td>0.064793</td>\n",
       "      <td>0.796748</td>\n",
       "    </tr>\n",
       "    <tr>\n",
       "      <th>13</th>\n",
       "      <td>53</td>\n",
       "      <td>0.070614</td>\n",
       "      <td>0.792683</td>\n",
       "    </tr>\n",
       "    <tr>\n",
       "      <th>14</th>\n",
       "      <td>54</td>\n",
       "      <td>0.080702</td>\n",
       "      <td>0.747967</td>\n",
       "    </tr>\n",
       "    <tr>\n",
       "      <th>15</th>\n",
       "      <td>55</td>\n",
       "      <td>0.093787</td>\n",
       "      <td>0.644309</td>\n",
       "    </tr>\n",
       "    <tr>\n",
       "      <th>16</th>\n",
       "      <td>56</td>\n",
       "      <td>0.098926</td>\n",
       "      <td>0.542683</td>\n",
       "    </tr>\n",
       "    <tr>\n",
       "      <th>17</th>\n",
       "      <td>57</td>\n",
       "      <td>0.101820</td>\n",
       "      <td>0.477642</td>\n",
       "    </tr>\n",
       "    <tr>\n",
       "      <th>18</th>\n",
       "      <td>58</td>\n",
       "      <td>0.093584</td>\n",
       "      <td>0.394309</td>\n",
       "    </tr>\n",
       "    <tr>\n",
       "      <th>19</th>\n",
       "      <td>59</td>\n",
       "      <td>0.087618</td>\n",
       "      <td>0.339431</td>\n",
       "    </tr>\n",
       "    <tr>\n",
       "      <th>20</th>\n",
       "      <td>60</td>\n",
       "      <td>0.092853</td>\n",
       "      <td>0.335366</td>\n",
       "    </tr>\n",
       "  </tbody>\n",
       "</table>\n",
       "</div>"
      ],
      "text/plain": [
       "    threshold  Precision    Recall\n",
       "0          40   0.019232  0.876016\n",
       "1          41   0.022138  0.869919\n",
       "2          42   0.025289  0.865854\n",
       "3          43   0.028439  0.861789\n",
       "4          44   0.032036  0.859756\n",
       "5          45   0.035726  0.855691\n",
       "6          46   0.039681  0.849593\n",
       "7          47   0.043826  0.845528\n",
       "8          48   0.047425  0.829268\n",
       "9          49   0.051548  0.819106\n",
       "10         50   0.056188  0.813008\n",
       "11         51   0.060228  0.804878\n",
       "12         52   0.064793  0.796748\n",
       "13         53   0.070614  0.792683\n",
       "14         54   0.080702  0.747967\n",
       "15         55   0.093787  0.644309\n",
       "16         56   0.098926  0.542683\n",
       "17         57   0.101820  0.477642\n",
       "18         58   0.093584  0.394309\n",
       "19         59   0.087618  0.339431\n",
       "20         60   0.092853  0.335366"
      ]
     },
     "execution_count": 59,
     "metadata": {},
     "output_type": "execute_result"
    }
   ],
   "source": [
    "metrics = []\n",
    "for threshold in range(40, 61):\n",
    "    y_pred = (df_scores['anomaly_score'] > threshold).astype(int)\n",
    "    recall = recall_score(df_scores['true_class'], y_pred)\n",
    "    precision = precision_score(df_scores['true_class'], y_pred)\n",
    "    metrics.append((threshold, precision, recall))\n",
    "pd.DataFrame(\n",
    "    metrics,\n",
    "    columns=['threshold', 'Precision', 'Recall']\n",
    ")\n"
   ]
  },
  {
   "cell_type": "code",
   "execution_count": 62,
   "id": "2463f96d",
   "metadata": {},
   "outputs": [
    {
     "name": "stdout",
     "output_type": "stream",
     "text": [
      "              precision    recall  f1-score   support\n",
      "\n",
      "           0       1.00      0.98      0.99    284315\n",
      "           1       0.06      0.81      0.11       492\n",
      "\n",
      "    accuracy                           0.98    284807\n",
      "   macro avg       0.53      0.89      0.55    284807\n",
      "weighted avg       1.00      0.98      0.99    284807\n",
      "\n"
     ]
    },
    {
     "data": {
      "image/png": "[encoded data removed]",
      "text/plain": [
       "<Figure size 600x400 with 2 Axes>"
      ]
     },
     "metadata": {},
     "output_type": "display_data"
    },
    {
     "data": {
      "image/png": "[encoded data removed]",
      "text/plain": [
       "<Figure size 800x400 with 1 Axes>"
      ]
     },
     "metadata": {},
     "output_type": "display_data"
    }
   ],
   "source": [
    "threshold = 50\n",
    "y_pred = (df_scores['anomaly_score'] > threshold).astype(int)\n",
    "\n",
    "# Avaliação\n",
    "print(classification_report(df_scores['true_class'], y_pred))\n",
    "\n",
    "# Matriz de confusão\n",
    "cm = confusion_matrix(df_scores['true_class'], y_pred)\n",
    "\n",
    "plt.figure(figsize=(6, 4))\n",
    "sns.heatmap(cm, annot=True, fmt='d', cmap='Blues',\n",
    "            xticklabels=['Normal', 'Fraude'],\n",
    "            yticklabels=['Normal', 'Fraude'])\n",
    "plt.xlabel('Previsto')\n",
    "plt.ylabel('Real')\n",
    "plt.title(f'Matriz de Confusão (threshold = {threshold})')\n",
    "plt.tight_layout()\n",
    "plt.show()\n",
    "\n",
    "\n",
    "\n",
    "# 8. Plotar distribuições de anomaly_score\n",
    "plt.figure(figsize=(8, 4))\n",
    "plt.hist(anomalie_score[y == 0], bins=100, density=True, alpha=0.6, label='Normal')\n",
    "plt.hist(anomalie_score[y == 1], bins=100, density=True, alpha=0.6, label='Fraude')\n",
    "plt.title('Distribuição de Scores de Anomalia (KDE)')\n",
    "plt.xlabel('Anomaly Score (-log p)')\n",
    "plt.ylabel('Densidade')\n",
    "plt.legend()\n",
    "plt.tight_layout()\n",
    "plt.xlim(0, 3500)\n",
    "plt.show()"
   ]
  },
  {
   "cell_type": "markdown",
   "id": "51afc4a7",
   "metadata": {},
   "source": [
    "## Segunda abordagem"
   ]
  },
  {
   "cell_type": "code",
   "execution_count": null,
   "id": "d95800b0",
   "metadata": {},
   "outputs": [
    {
     "name": "stdout",
     "output_type": "stream",
     "text": [
      "Score: -16371134.007275064; width: 0.5\n",
      "Score: -14190707.465485357; width: 0.6\n",
      "Score: -13118557.261895383; width: 0.7\n",
      "Score: -12659384.68789026; width: 0.7999999999999999\n",
      "Score: -12538496.39385165; width: 0.8999999999999999\n",
      "Score: -12611605.34877429; width: 0.9999999999999999\n",
      "Score: -12802387.719337182; width: 1.0999999999999999\n",
      "Score: -13051053.653156804; width: 1.1999999999999997\n",
      "Score: -13334941.633030433; width: 1.2999999999999998\n",
      "Score: -13636114.0392097; width: 1.4\n"
     ]
    },
    {
     "data": {
      "image/png": "[encoded data removed]",
      "text/plain": [
       "<Figure size 800x400 with 1 Axes>"
      ]
     },
     "metadata": {},
     "output_type": "display_data"
    }
   ],
   "source": [
    "# Eu preciso dos dados sem classe\n",
    "X = df.drop(columns=['Class'])\n",
    "y = df['Class']\n",
    "\n",
    "# Eu preciso dos dados normais\n",
    "X_normal_sample = df[df['Class'] == 0].drop(columns=['Class']).sample(n=200, random_state=42)\n",
    "\n",
    "## Agora eu preciso fazer o modelo entender quais são os dados normais\n",
    "\n",
    "standard_scaler = StandardScaler()\n",
    "X_normal_sampled_scaled = standard_scaler.fit_transform(X_normal_sample)\n",
    "X_scaled = standard_scaler.transform(X)\n",
    "\n",
    "\n",
    "# Treinar o KDE\n",
    "best_bw, max_value = 0, -np.inf\n",
    "for bw in np.arange(0.5,1.5, 0.1):\n",
    "    kde = KernelDensity(bandwidth=bw, kernel='gaussian', algorithm='auto')\n",
    "    kde.fit(X_normal_sampled_scaled)\n",
    "    ##Calcular o score dos dados\n",
    "    score = kde.score(X_scaled[y==0])\n",
    "    print(f'Score: {score}; width: {bw}')\n",
    "    if (score > max_value):\n",
    "        max_value = score\n",
    "        best_bw = bw\n",
    "print(f'melhor banda: {best_bw}')\n",
    "\n",
    "\n",
    "df_scores = pd.DataFrame(\n",
    "    {\n",
    "        'anomaly_score': anomalie_score,\n",
    "        'true_class': y\n",
    "    }\n",
    ")\n",
    "\n",
    "# 8. Plotar distribuições de anomaly_score\n",
    "plt.figure(figsize=(8, 4))\n",
    "plt.hist(anomalie_score[y == 0], bins=100, density=True, alpha=0.6, label='Normal')\n",
    "plt.hist(anomalie_score[y == 1], bins=100, density=True, alpha=0.6, label='Fraude')\n",
    "plt.title('Distribuição de Scores de Anomalia (KDE)')\n",
    "plt.xlabel('Anomaly Score (-log p)')\n",
    "plt.ylabel('Densidade')\n",
    "plt.legend()\n",
    "plt.tight_layout()\n",
    "plt.xlim(0, 3500)\n",
    "plt.show()"
   ]
  }
 ],
 "metadata": {
  "kernelspec": {
   "display_name": "base",
   "language": "python",
   "name": "python3"
  },
  "language_info": {
   "codemirror_mode": {
    "name": "ipython",
    "version": 3
   },
   "file_extension": ".py",
   "mimetype": "text/x-python",
   "name": "python",
   "nbconvert_exporter": "python",
   "pygments_lexer": "ipython3",
   "version": "3.12.7"
  }
 },
 "nbformat": 4,
 "nbformat_minor": 5
}
