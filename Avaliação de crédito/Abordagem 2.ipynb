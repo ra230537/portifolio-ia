{
 "cells": [
  {
   "cell_type": "code",
   "execution_count": 9,
   "id": "678765ca",
   "metadata": {},
   "outputs": [],
   "source": [
    "import pandas as pd\n",
    "import matplotlib.pyplot as plt\n",
    "\n",
    "from sklearn.model_selection import train_test_split\n",
    "from sklearn.preprocessing import StandardScaler\n",
    "from imblearn.over_sampling import SMOTE\n",
    "from sklearn.linear_model import LogisticRegression\n",
    "from sklearn.metrics import classification_report, confusion_matrix, precision_recall_curve, auc\n",
    "import seaborn as sns\n",
    "import numpy as np"
   ]
  },
  {
   "cell_type": "code",
   "execution_count": 2,
   "id": "061c2e97",
   "metadata": {},
   "outputs": [],
   "source": [
    "\n",
    "df = pd.read_csv('creditcard.csv')\n"
   ]
  },
  {
   "cell_type": "markdown",
   "id": "1dfdf97e",
   "metadata": {},
   "source": [
    "The columns are features: due to privacity we don't know the columns name but we have time and amount: Time is the difference between the each transaction and the first transaction dataset and Amount is the transaction amount"
   ]
  },
  {
   "cell_type": "markdown",
   "id": "36f018a8",
   "metadata": {},
   "source": [
    "# EDA"
   ]
  },
  {
   "cell_type": "markdown",
   "id": "876cd5b3",
   "metadata": {},
   "source": [
    "## Ver a distribuição das classes\n",
    "Vamos ver como as classes estão distribuídas, isso pode nos ajudar a entender um pouco melhor os dados, como há no geral poucos dados fraudulentos é esperado que hajam bem mais registros de dados não fraudulentos do que de fraudulentos"
   ]
  },
  {
   "cell_type": "code",
   "execution_count": 3,
   "id": "a90cc0e9",
   "metadata": {},
   "outputs": [
    {
     "data": {
      "image/png": "[encoded data removed]",
      "text/plain": [
       "<Figure size 600x400 with 1 Axes>"
      ]
     },
     "metadata": {},
     "output_type": "display_data"
    },
    {
     "name": "stdout",
     "output_type": "stream",
     "text": [
      "Percentual de dados fraudulentos: 0.173%\n",
      "Percentual de dados não fraudulentos: 99.827%\n"
     ]
    }
   ],
   "source": [
    "class_count = df['Class'].value_counts()\n",
    "\n",
    "# Plot\n",
    "plt.figure(figsize=(6, 4))\n",
    "bars = plt.bar(class_count.index.astype(str), class_count.values)\n",
    "for bar in bars:\n",
    "    height = bar.get_height()\n",
    "    plt.text(\n",
    "        bar.get_x()+bar.get_width()/2,\n",
    "        height, \n",
    "        str(height),\n",
    "        ha='center', \n",
    "        va='bottom'\n",
    "    )\n",
    "plt.xlabel('Classe (0 = Normal, 1 = Fraude)')\n",
    "plt.tight_layout()\n",
    "plt.show()\n",
    "print(f\"Percentual de dados fraudulentos: {round(100*class_count[1]/df.shape[0], 3)}%\")\n",
    "print(f\"Percentual de dados não fraudulentos: {round(100*class_count[0]/df.shape[0], 3)}%\")\n"
   ]
  },
  {
   "cell_type": "markdown",
   "id": "c8811a85",
   "metadata": {},
   "source": [
    "## Estatística básica das variáveis\n",
    "A ideia é olharmos para os números para entendermos melhor os dados"
   ]
  },
  {
   "cell_type": "markdown",
   "id": "d8600734",
   "metadata": {},
   "source": [
    "### Como as quantidades se relacionam com os dados fraudados"
   ]
  },
  {
   "cell_type": "markdown",
   "id": "fc1529e7",
   "metadata": {},
   "source": [
    "Podemos ver que a média dos dados fraudados ela é maior que a média dos dados normais mas a mediana não é, oque quer dizer que a maioria das transações fraudulentas, tem valores inferiores a media. E outra parte (75%) tem valores superiores, isso pode nos ajudar no futuro"
   ]
  },
  {
   "cell_type": "code",
   "execution_count": 4,
   "id": "b4bd4161",
   "metadata": {},
   "outputs": [
    {
     "data": {
      "text/html": [
       "<div>\n",
       "<style scoped>\n",
       "    .dataframe tbody tr th:only-of-type {\n",
       "        vertical-align: middle;\n",
       "    }\n",
       "\n",
       "    .dataframe tbody tr th {\n",
       "        vertical-align: top;\n",
       "    }\n",
       "\n",
       "    .dataframe thead th {\n",
       "        text-align: right;\n",
       "    }\n",
       "</style>\n",
       "<table border=\"1\" class=\"dataframe\">\n",
       "  <thead>\n",
       "    <tr style=\"text-align: right;\">\n",
       "      <th></th>\n",
       "      <th>Normal</th>\n",
       "      <th>Fraude</th>\n",
       "    </tr>\n",
       "  </thead>\n",
       "  <tbody>\n",
       "    <tr>\n",
       "      <th>count</th>\n",
       "      <td>284315.000000</td>\n",
       "      <td>492.000000</td>\n",
       "    </tr>\n",
       "    <tr>\n",
       "      <th>mean</th>\n",
       "      <td>88.291022</td>\n",
       "      <td>122.211321</td>\n",
       "    </tr>\n",
       "    <tr>\n",
       "      <th>std</th>\n",
       "      <td>250.105092</td>\n",
       "      <td>256.683288</td>\n",
       "    </tr>\n",
       "    <tr>\n",
       "      <th>min</th>\n",
       "      <td>0.000000</td>\n",
       "      <td>0.000000</td>\n",
       "    </tr>\n",
       "    <tr>\n",
       "      <th>25%</th>\n",
       "      <td>5.650000</td>\n",
       "      <td>1.000000</td>\n",
       "    </tr>\n",
       "    <tr>\n",
       "      <th>50%</th>\n",
       "      <td>22.000000</td>\n",
       "      <td>9.250000</td>\n",
       "    </tr>\n",
       "    <tr>\n",
       "      <th>75%</th>\n",
       "      <td>77.050000</td>\n",
       "      <td>105.890000</td>\n",
       "    </tr>\n",
       "    <tr>\n",
       "      <th>max</th>\n",
       "      <td>25691.160000</td>\n",
       "      <td>2125.870000</td>\n",
       "    </tr>\n",
       "  </tbody>\n",
       "</table>\n",
       "</div>"
      ],
      "text/plain": [
       "              Normal       Fraude\n",
       "count  284315.000000   492.000000\n",
       "mean       88.291022   122.211321\n",
       "std       250.105092   256.683288\n",
       "min         0.000000     0.000000\n",
       "25%         5.650000     1.000000\n",
       "50%        22.000000     9.250000\n",
       "75%        77.050000   105.890000\n",
       "max     25691.160000  2125.870000"
      ]
     },
     "execution_count": 4,
     "metadata": {},
     "output_type": "execute_result"
    }
   ],
   "source": [
    "fraude = df.where(df['Class'] == 1).describe()['Amount']\n",
    "normal = df.where(df['Class'] == 0).describe()['Amount']\n",
    "pd.DataFrame({'Normal': normal, 'Fraude': fraude})"
   ]
  },
  {
   "cell_type": "markdown",
   "id": "1e7e76ca",
   "metadata": {},
   "source": [
    "### Correlação entre as variáveis e os dados fraudados"
   ]
  },
  {
   "cell_type": "markdown",
   "id": "ec45885f",
   "metadata": {},
   "source": [
    "Interessante notar que amount não está entre as principais variáveis que se relacionam com a classe. As principais são: V17, V14, V12 ,V10, V16, V3 e V7"
   ]
  },
  {
   "cell_type": "code",
   "execution_count": 5,
   "id": "0df54e8b",
   "metadata": {},
   "outputs": [
    {
     "name": "stdout",
     "output_type": "stream",
     "text": [
      "V17      -0.326481\n",
      "V14      -0.302544\n",
      "V12      -0.260593\n",
      "V10      -0.216883\n",
      "V16      -0.196539\n",
      "V3       -0.192961\n",
      "V7       -0.187257\n",
      "V11       0.154876\n",
      "V4        0.133447\n",
      "V18      -0.111485\n",
      "V1       -0.101347\n",
      "V9       -0.097733\n",
      "V5       -0.094974\n",
      "V2        0.091289\n",
      "V6       -0.043643\n",
      "V21       0.040413\n",
      "V19       0.034783\n",
      "V20       0.020090\n",
      "V8        0.019875\n",
      "V27       0.017580\n",
      "Time     -0.012323\n",
      "V28       0.009536\n",
      "V24      -0.007221\n",
      "Amount    0.005632\n",
      "V13      -0.004570\n",
      "V26       0.004455\n",
      "V15      -0.004223\n",
      "V25       0.003308\n",
      "V23      -0.002685\n",
      "V22       0.000805\n",
      "Name: Class, dtype: float64\n"
     ]
    }
   ],
   "source": [
    "correlations = df.corr(numeric_only=True)\n",
    "class_correlations = correlations['Class'].drop('Class')\n",
    "sorted_class_correlations = class_correlations.sort_values(key=abs, ascending=False)\n",
    "print(sorted_class_correlations)"
   ]
  },
  {
   "cell_type": "code",
   "execution_count": 6,
   "id": "67163b4d",
   "metadata": {},
   "outputs": [],
   "source": [
    "def avaliar_modelo(y_test, y_pred):\n",
    "    report = classification_report(y_test, y_pred, output_dict=True)\n",
    "    conf_matrix = confusion_matrix(y_test, y_pred)\n",
    "\n",
    "    plt.figure(figsize=(6, 4))\n",
    "    sns.heatmap(\n",
    "        conf_matrix,\n",
    "        annot=True,\n",
    "        fmt='d',\n",
    "        cmap='Blues',\n",
    "        xticklabels=['Normal', 'Fraude'],\n",
    "        yticklabels=['Normal', 'Fraude']\n",
    "    )\n",
    "    plt.ylabel('Real')\n",
    "    plt.xlabel('Previsto')\n",
    "    plt.show()\n",
    "    print(pd.DataFrame(report))"
   ]
  },
  {
   "cell_type": "markdown",
   "id": "d4689b6e",
   "metadata": {},
   "source": [
    "## Avaliando o modelo"
   ]
  },
  {
   "cell_type": "code",
   "execution_count": 7,
   "id": "2655786d",
   "metadata": {},
   "outputs": [
    {
     "data": {
      "image/png": "[encoded data removed]",
      "text/plain": [
       "<Figure size 600x400 with 2 Axes>"
      ]
     },
     "metadata": {},
     "output_type": "display_data"
    },
    {
     "name": "stdout",
     "output_type": "stream",
     "text": [
      "                      0           1  accuracy     macro avg  weighted avg\n",
      "precision      0.999309    0.847619  0.999122      0.923464      0.999046\n",
      "recall         0.999812    0.601351  0.999122      0.800582      0.999122\n",
      "f1-score       0.999560    0.703557  0.999122      0.851559      0.999048\n",
      "support    85295.000000  148.000000  0.999122  85443.000000  85443.000000\n"
     ]
    }
   ],
   "source": [
    "# Preparação dos dados\n",
    "## Separação das variáveis\n",
    "X = df.drop(columns=['Class'])\n",
    "y = df['Class']\n",
    "## Normalização\n",
    "scaler = StandardScaler()\n",
    "X_scaled = scaler.fit_transform(X)\n",
    "\n",
    "## Divisão treino e teste\n",
    "X_train, X_test, y_train, y_test = train_test_split(X_scaled, y, test_size=0.3, random_state=42, stratify=y)\n",
    "\n",
    "# Treinando o modelo e Avaliando desempenho\n",
    "model = LogisticRegression(random_state=42)\n",
    "model.fit(X_train, y_train)\n",
    "\n",
    "## Fazendo o modelo funcionar\n",
    "y_pred = model.predict(X_test)\n",
    "avaliar_modelo(y_test, y_pred)"
   ]
  },
  {
   "cell_type": "markdown",
   "id": "64511e14",
   "metadata": {},
   "source": [
    "## Utilizando um threshold"
   ]
  },
  {
   "cell_type": "code",
   "execution_count": 8,
   "id": "4d565424",
   "metadata": {},
   "outputs": [
    {
     "data": {
      "image/png": "[encoded data removed]",
      "text/plain": [
       "<Figure size 600x400 with 2 Axes>"
      ]
     },
     "metadata": {},
     "output_type": "display_data"
    },
    {
     "name": "stdout",
     "output_type": "stream",
     "text": [
      "                      0           1  accuracy     macro avg  weighted avg\n",
      "precision      0.999484    0.787879  0.999157      0.893682      0.999118\n",
      "recall         0.999672    0.702703  0.999157      0.851187      0.999157\n",
      "f1-score       0.999578    0.742857  0.999157      0.871218      0.999133\n",
      "support    85295.000000  148.000000  0.999157  85443.000000  85443.000000\n"
     ]
    }
   ],
   "source": [
    "# Preparação dos dados\n",
    "## Separação das variáveis\n",
    "X = df.drop(columns=['Class'])\n",
    "y = df['Class']\n",
    "## Normalização\n",
    "scaler = StandardScaler()\n",
    "X_scaled = scaler.fit_transform(X)\n",
    "\n",
    "## Divisão treino e teste\n",
    "X_train, X_test, y_train, y_test = train_test_split(X_scaled, y, test_size=0.3, random_state=42, stratify=y)\n",
    "\n",
    "# Treinando o modelo e Avaliando desempenho\n",
    "model = LogisticRegression(random_state=42)\n",
    "model.fit(X_train, y_train)\n",
    "\n",
    "y_probs = model.predict_proba(X_test)[:,1]\n",
    "precision, recall, thresholds = precision_recall_curve(y_test, y_probs)\n",
    "f1 = 2 * ( precision * recall) / (precision + recall)\n",
    "best_threshold_idx = f1.argmax()\n",
    "best_threshold = thresholds[best_threshold_idx]\n",
    "\n",
    "# Fazer a previsão das probabilidades\n",
    "y_probs = model.predict_proba(X_test)[:,1]\n",
    "\n",
    "y_pred_threshold = (y_probs >= best_threshold).astype(int)\n",
    "\n",
    "avaliar_modelo(y_test, y_pred_threshold)"
   ]
  },
  {
   "cell_type": "code",
   "execution_count": 11,
   "id": "a6c0f7cb",
   "metadata": {},
   "outputs": [
    {
     "name": "stdout",
     "output_type": "stream",
     "text": [
      "Auc-pr: 0.7058\n"
     ]
    }
   ],
   "source": [
    "auc_pr = auc(recall, precision)\n",
    "print(f'Auc-pr: {auc_pr:.4f}')"
   ]
  }
 ],
 "metadata": {
  "kernelspec": {
   "display_name": "base",
   "language": "python",
   "name": "python3"
  },
  "language_info": {
   "codemirror_mode": {
    "name": "ipython",
    "version": 3
   },
   "file_extension": ".py",
   "mimetype": "text/x-python",
   "name": "python",
   "nbconvert_exporter": "python",
   "pygments_lexer": "ipython3",
   "version": "3.12.7"
  }
 },
 "nbformat": 4,
 "nbformat_minor": 5
}
