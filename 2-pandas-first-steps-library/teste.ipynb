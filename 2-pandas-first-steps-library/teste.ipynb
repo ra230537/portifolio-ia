{
 "cells": [
  {
   "cell_type": "code",
   "execution_count": 8,
   "id": "c123bb44",
   "metadata": {},
   "outputs": [],
   "source": [
    "import requests\n",
    "from collections import defaultdict\n",
    "\n",
    "url_marca = 'https://veiculos.fipe.org.br/api/veiculos//ConsultarMarcas'\n",
    "body = {\n",
    "    'codigoTabelaReferencia': 321,\n",
    "    'codigoTipoVeiculo': 1\n",
    "}\n",
    "response = requests.post(url=url_marca, data=body )\n",
    "marca_valor = response.content # label, value\n"
   ]
  },
  {
   "cell_type": "code",
   "execution_count": null,
   "id": "79da23ef",
   "metadata": {},
   "outputs": [],
   "source": [
    "# obter modelo\n",
    "# so queremos os valores\n",
    "codigo_tipo_veiculo = 1\n",
    "codigo_tabela_referencia = 321\n",
    "body = {\n",
    "    'codigoTabelaReferencia': 321,\n",
    "    'codigoTipoVeiculo': 1,\n",
    "    'codigoModelo': 1,\n",
    "    'codigoMarca' : None,\n",
    "    'ano': None,\n",
    "    'codigoTipoCombustivel': None,\n",
    "    'anoModelo': None,\n",
    "    'modeloCodigoExterno': None\n",
    "}\n",
    "response_modelo = defaultdict(list)\n",
    "url_modelo = 'https://veiculos.fipe.org.br/api/veiculos//ConsultarAnoModelo'\n",
    "for codigo_marca in range(1, 3):\n",
    "    body['codigoMarca'] = codigo_marca\n",
    "    response = requests.post(url=url_modelo,data=body)\n",
    "    response_modelo[codigo_marca] = [value['value'] for value in response.content]\n",
    "# codigo marca = marca_valor['value']\n",
    "resposta = []"
   ]
  },
  {
   "cell_type": "code",
   "execution_count": null,
   "id": "cd69c39d",
   "metadata": {},
   "outputs": [
    {
     "name": "stdout",
     "output_type": "stream",
     "text": [
      "[{\"Label\":\"1992 Gasolina\",\"Value\":\"1992-1\"},{\"Label\":\"1991 Gasolina\",\"Value\":\"1991-1\"}]\n"
     ]
    }
   ],
   "source": [
    "body = {\n",
    "    'codigoTabelaReferencia': 321,\n",
    "    'codigoTipoVeiculo': 1,\n",
    "    'codigoModelo': 1,\n",
    "    'codigoMarca' : 1,\n",
    "    'ano': None,\n",
    "    'codigoTipoCombustivel': None,\n",
    "    'anoModelo': None,\n",
    "    'modeloCodigoExterno': None\n",
    "}\n",
    "response = requests.post(url='https://veiculos.fipe.org.br/api/veiculos//ConsultarAnoModelo',data=body)\n",
    "# print(response.content.decode())\n",
    "[value['value'] for value in response.content]"
   ]
  }
 ],
 "metadata": {
  "kernelspec": {
   "display_name": "base",
   "language": "python",
   "name": "python3"
  },
  "language_info": {
   "codemirror_mode": {
    "name": "ipython",
    "version": 3
   },
   "file_extension": ".py",
   "mimetype": "text/x-python",
   "name": "python",
   "nbconvert_exporter": "python",
   "pygments_lexer": "ipython3",
   "version": "3.12.7"
  }
 },
 "nbformat": 4,
 "nbformat_minor": 5
}
